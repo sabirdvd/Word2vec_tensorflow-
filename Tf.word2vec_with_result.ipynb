{
 "cells": [
  {
   "cell_type": "code",
   "execution_count": 787,
   "metadata": {
    "collapsed": true
   },
   "outputs": [],
   "source": [
    "## Skip-gram model"
   ]
  },
  {
   "cell_type": "code",
   "execution_count": 788,
   "metadata": {
    "collapsed": true
   },
   "outputs": [],
   "source": [
    "import numpy as np\n",
    "import tensorflow as tf"
   ]
  },
  {
   "cell_type": "code",
   "execution_count": 789,
   "metadata": {
    "collapsed": true
   },
   "outputs": [],
   "source": [
    "#corpus_raw = 'He is the king . The king is royal . she is the royal queen .'"
   ]
  },
  {
   "cell_type": "code",
   "execution_count": 790,
   "metadata": {
    "collapsed": false
   },
   "outputs": [
    {
     "name": "stdout",
     "output_type": "stream",
     "text": [
      "he is the king . the king is royal . she is the royal . queen he is the king . the king is royal . she is the royal queen\n"
     ]
    }
   ],
   "source": [
    "# Convert to lower case \n",
    "corpus_raw = corpus_raw.lower()\n",
    "print corpus_raw "
   ]
  },
  {
   "cell_type": "code",
   "execution_count": 791,
   "metadata": {
    "collapsed": false
   },
   "outputs": [],
   "source": [
    "# Here’s a handy example from this amazing post on word2vec by Chris McCormick.\n",
    "#from IPython.display import Image\n",
    "#Image(filename='/home/asabir/Desktop/exp-w2v.png')"
   ]
  },
  {
   "cell_type": "code",
   "execution_count": 792,
   "metadata": {
    "collapsed": true
   },
   "outputs": [],
   "source": [
    "words = []\n",
    "#becuase we dont want to treat . as word \n",
    "for word in corpus_raw.split():\n",
    "    if word != '.':\n",
    "        words.append(word)"
   ]
  },
  {
   "cell_type": "code",
   "execution_count": 793,
   "metadata": {
    "collapsed": false,
    "scrolled": true
   },
   "outputs": [
    {
     "name": "stdout",
     "output_type": "stream",
     "text": [
      "set(['king', 'is', 'queen', 'royal', 'she', 'the', 'he'])\n"
     ]
    }
   ],
   "source": [
    "# remove all duplicate word \n",
    "words = set (words)\n",
    "print words"
   ]
  },
  {
   "cell_type": "code",
   "execution_count": 794,
   "metadata": {
    "collapsed": false
   },
   "outputs": [
    {
     "name": "stdout",
     "output_type": "stream",
     "text": [
      "give the total number of unique words\n",
      "7\n"
     ]
    }
   ],
   "source": [
    "word2int = {}\n",
    "int2word = {}\n",
    "# Give the total number of unique words \n",
    "vocab_size = len(words)\n",
    "print('give the total number of unique words')\n",
    "print vocab_size \n",
    "### \n",
    "for i, word in enumerate(words):\n",
    "    word2int[word] = i \n",
    "    int2word[i] = word"
   ]
  },
  {
   "cell_type": "code",
   "execution_count": 795,
   "metadata": {
    "collapsed": false
   },
   "outputs": [
    {
     "name": "stdout",
     "output_type": "stream",
     "text": [
      "2\n"
     ]
    }
   ],
   "source": [
    "# The dictionaries allow us to do : \n",
    "print (word2int['queen'])"
   ]
  },
  {
   "cell_type": "code",
   "execution_count": 796,
   "metadata": {
    "collapsed": false
   },
   "outputs": [
    {
     "name": "stdout",
     "output_type": "stream",
     "text": [
      "royal\n"
     ]
    }
   ],
   "source": [
    "print (int2word[3])"
   ]
  },
  {
   "cell_type": "code",
   "execution_count": 797,
   "metadata": {
    "collapsed": false
   },
   "outputs": [
    {
     "name": "stdout",
     "output_type": "stream",
     "text": [
      "[['he', 'is', 'the', 'king'], ['the', 'king', 'is', 'royal'], ['she', 'is', 'the', 'royal'], ['queen', 'he', 'is', 'the', 'king'], ['the', 'king', 'is', 'royal'], ['she', 'is', 'the', 'royal', 'queen']]\n"
     ]
    }
   ],
   "source": [
    "# we want a list if our sentences as a list of words:\n",
    "# raw_sentencce is a list of sentences\n",
    "raw_sentences = corpus_raw.split('.')\n",
    "sentences = [] \n",
    "for sentence in raw_sentences:\n",
    "    sentences.append(sentence.split())\n",
    "# to give us a list of sentences where each senteance is a list of words. \n",
    "print (sentences)    "
   ]
  },
  {
   "cell_type": "code",
   "execution_count": 798,
   "metadata": {
    "collapsed": true
   },
   "outputs": [],
   "source": [
    "# Now we genterate our traning data \n",
    "data = [] \n",
    "\n",
    "WINDOW_SIZE = 2 \n",
    "\n",
    "for sentence in sentences: \n",
    "    for word_index, word in enumerate(sentence):\n",
    "        for nb_word in sentence[(max(word_index - WINDOW_SIZE, 0)): min(word_index + WINDOW_SIZE, len(sentence)+1)] :\n",
    "                             if nb_word != word: \n",
    "                                   data.append([word, nb_word])"
   ]
  },
  {
   "cell_type": "code",
   "execution_count": 799,
   "metadata": {
    "collapsed": false
   },
   "outputs": [
    {
     "name": "stdout",
     "output_type": "stream",
     "text": [
      "[['he', 'is'], ['is', 'he'], ['is', 'the'], ['the', 'he'], ['the', 'is'], ['the', 'king'], ['king', 'is'], ['king', 'the'], ['the', 'king'], ['king', 'the'], ['king', 'is'], ['is', 'the'], ['is', 'king'], ['is', 'royal'], ['royal', 'king'], ['royal', 'is'], ['she', 'is'], ['is', 'she'], ['is', 'the'], ['the', 'she'], ['the', 'is'], ['the', 'royal'], ['royal', 'is'], ['royal', 'the'], ['queen', 'he'], ['he', 'queen'], ['he', 'is'], ['is', 'queen'], ['is', 'he'], ['is', 'the'], ['the', 'he'], ['the', 'is'], ['the', 'king'], ['king', 'is'], ['king', 'the'], ['the', 'king'], ['king', 'the'], ['king', 'is'], ['is', 'the'], ['is', 'king'], ['is', 'royal'], ['royal', 'king'], ['royal', 'is'], ['she', 'is'], ['is', 'she'], ['is', 'the'], ['the', 'she'], ['the', 'is'], ['the', 'royal'], ['royal', 'is'], ['royal', 'the'], ['royal', 'queen'], ['queen', 'the'], ['queen', 'royal']]\n"
     ]
    }
   ],
   "source": [
    "print (data)"
   ]
  },
  {
   "cell_type": "code",
   "execution_count": 800,
   "metadata": {
    "collapsed": true
   },
   "outputs": [],
   "source": [
    "# now we need to represented the data in ONE-hot-encoder \n",
    "# for example \n",
    "# for example you have 3 words : tokyo, texas , barcelona\n",
    "#word2int = ['tokyo'] --> 0 --> [1 0 0]\n",
    "#word2int = ['barcelona'] --> 1 --> [0 1 0]\n",
    "#word2int = ['texas '] --> 2 --> [0 0 1]\n"
   ]
  },
  {
   "cell_type": "code",
   "execution_count": 801,
   "metadata": {
    "collapsed": true
   },
   "outputs": [],
   "source": [
    "# Hot encoder vector \n",
    "# function to convert number to one hot vertors \n",
    "def to_one_hot(data_point_index, vocab_size):\n",
    "    temp = np.zeros(vocab_size)\n",
    "    temp[data_point_index]= 1 \n",
    "    return temp "
   ]
  },
  {
   "cell_type": "code",
   "execution_count": 802,
   "metadata": {
    "collapsed": true
   },
   "outputs": [],
   "source": [
    "# input word \n",
    "x_train = [] \n",
    "# output word\n",
    "y_train = []\n",
    "# \n",
    "for data_word in data: \n",
    "    x_train.append(to_one_hot(word2int[data_word[0]], vocab_size))\n",
    "    y_train.append(to_one_hot(word2int[data_word[1]], vocab_size))\n",
    "    "
   ]
  },
  {
   "cell_type": "code",
   "execution_count": 803,
   "metadata": {
    "collapsed": true
   },
   "outputs": [],
   "source": [
    "# convert them to numpy arrays \n",
    "x_train = np.asarray(x_train)\n",
    "y_train = np.asarray(y_train)"
   ]
  },
  {
   "cell_type": "code",
   "execution_count": 804,
   "metadata": {
    "collapsed": false
   },
   "outputs": [
    {
     "name": "stdout",
     "output_type": "stream",
     "text": [
      "[[ 0.  0.  0.  0.  0.  0.  1.]\n",
      " [ 0.  1.  0.  0.  0.  0.  0.]\n",
      " [ 0.  1.  0.  0.  0.  0.  0.]\n",
      " [ 0.  0.  0.  0.  0.  1.  0.]\n",
      " [ 0.  0.  0.  0.  0.  1.  0.]\n",
      " [ 0.  0.  0.  0.  0.  1.  0.]\n",
      " [ 1.  0.  0.  0.  0.  0.  0.]\n",
      " [ 1.  0.  0.  0.  0.  0.  0.]\n",
      " [ 0.  0.  0.  0.  0.  1.  0.]\n",
      " [ 1.  0.  0.  0.  0.  0.  0.]\n",
      " [ 1.  0.  0.  0.  0.  0.  0.]\n",
      " [ 0.  1.  0.  0.  0.  0.  0.]\n",
      " [ 0.  1.  0.  0.  0.  0.  0.]\n",
      " [ 0.  1.  0.  0.  0.  0.  0.]\n",
      " [ 0.  0.  0.  1.  0.  0.  0.]\n",
      " [ 0.  0.  0.  1.  0.  0.  0.]\n",
      " [ 0.  0.  0.  0.  1.  0.  0.]\n",
      " [ 0.  1.  0.  0.  0.  0.  0.]\n",
      " [ 0.  1.  0.  0.  0.  0.  0.]\n",
      " [ 0.  0.  0.  0.  0.  1.  0.]\n",
      " [ 0.  0.  0.  0.  0.  1.  0.]\n",
      " [ 0.  0.  0.  0.  0.  1.  0.]\n",
      " [ 0.  0.  0.  1.  0.  0.  0.]\n",
      " [ 0.  0.  0.  1.  0.  0.  0.]\n",
      " [ 0.  0.  1.  0.  0.  0.  0.]\n",
      " [ 0.  0.  0.  0.  0.  0.  1.]\n",
      " [ 0.  0.  0.  0.  0.  0.  1.]\n",
      " [ 0.  1.  0.  0.  0.  0.  0.]\n",
      " [ 0.  1.  0.  0.  0.  0.  0.]\n",
      " [ 0.  1.  0.  0.  0.  0.  0.]\n",
      " [ 0.  0.  0.  0.  0.  1.  0.]\n",
      " [ 0.  0.  0.  0.  0.  1.  0.]\n",
      " [ 0.  0.  0.  0.  0.  1.  0.]\n",
      " [ 1.  0.  0.  0.  0.  0.  0.]\n",
      " [ 1.  0.  0.  0.  0.  0.  0.]\n",
      " [ 0.  0.  0.  0.  0.  1.  0.]\n",
      " [ 1.  0.  0.  0.  0.  0.  0.]\n",
      " [ 1.  0.  0.  0.  0.  0.  0.]\n",
      " [ 0.  1.  0.  0.  0.  0.  0.]\n",
      " [ 0.  1.  0.  0.  0.  0.  0.]\n",
      " [ 0.  1.  0.  0.  0.  0.  0.]\n",
      " [ 0.  0.  0.  1.  0.  0.  0.]\n",
      " [ 0.  0.  0.  1.  0.  0.  0.]\n",
      " [ 0.  0.  0.  0.  1.  0.  0.]\n",
      " [ 0.  1.  0.  0.  0.  0.  0.]\n",
      " [ 0.  1.  0.  0.  0.  0.  0.]\n",
      " [ 0.  0.  0.  0.  0.  1.  0.]\n",
      " [ 0.  0.  0.  0.  0.  1.  0.]\n",
      " [ 0.  0.  0.  0.  0.  1.  0.]\n",
      " [ 0.  0.  0.  1.  0.  0.  0.]\n",
      " [ 0.  0.  0.  1.  0.  0.  0.]\n",
      " [ 0.  0.  0.  1.  0.  0.  0.]\n",
      " [ 0.  0.  1.  0.  0.  0.  0.]\n",
      " [ 0.  0.  1.  0.  0.  0.  0.]]\n"
     ]
    }
   ],
   "source": [
    "print(x_train)"
   ]
  },
  {
   "cell_type": "code",
   "execution_count": 805,
   "metadata": {
    "collapsed": false
   },
   "outputs": [
    {
     "name": "stdout",
     "output_type": "stream",
     "text": [
      "[[ 0.  1.  0.  0.  0.  0.  0.]\n",
      " [ 0.  0.  0.  0.  0.  0.  1.]\n",
      " [ 0.  0.  0.  0.  0.  1.  0.]\n",
      " [ 0.  0.  0.  0.  0.  0.  1.]\n",
      " [ 0.  1.  0.  0.  0.  0.  0.]\n",
      " [ 1.  0.  0.  0.  0.  0.  0.]\n",
      " [ 0.  1.  0.  0.  0.  0.  0.]\n",
      " [ 0.  0.  0.  0.  0.  1.  0.]\n",
      " [ 1.  0.  0.  0.  0.  0.  0.]\n",
      " [ 0.  0.  0.  0.  0.  1.  0.]\n",
      " [ 0.  1.  0.  0.  0.  0.  0.]\n",
      " [ 0.  0.  0.  0.  0.  1.  0.]\n",
      " [ 1.  0.  0.  0.  0.  0.  0.]\n",
      " [ 0.  0.  0.  1.  0.  0.  0.]\n",
      " [ 1.  0.  0.  0.  0.  0.  0.]\n",
      " [ 0.  1.  0.  0.  0.  0.  0.]\n",
      " [ 0.  1.  0.  0.  0.  0.  0.]\n",
      " [ 0.  0.  0.  0.  1.  0.  0.]\n",
      " [ 0.  0.  0.  0.  0.  1.  0.]\n",
      " [ 0.  0.  0.  0.  1.  0.  0.]\n",
      " [ 0.  1.  0.  0.  0.  0.  0.]\n",
      " [ 0.  0.  0.  1.  0.  0.  0.]\n",
      " [ 0.  1.  0.  0.  0.  0.  0.]\n",
      " [ 0.  0.  0.  0.  0.  1.  0.]\n",
      " [ 0.  0.  0.  0.  0.  0.  1.]\n",
      " [ 0.  0.  1.  0.  0.  0.  0.]\n",
      " [ 0.  1.  0.  0.  0.  0.  0.]\n",
      " [ 0.  0.  1.  0.  0.  0.  0.]\n",
      " [ 0.  0.  0.  0.  0.  0.  1.]\n",
      " [ 0.  0.  0.  0.  0.  1.  0.]\n",
      " [ 0.  0.  0.  0.  0.  0.  1.]\n",
      " [ 0.  1.  0.  0.  0.  0.  0.]\n",
      " [ 1.  0.  0.  0.  0.  0.  0.]\n",
      " [ 0.  1.  0.  0.  0.  0.  0.]\n",
      " [ 0.  0.  0.  0.  0.  1.  0.]\n",
      " [ 1.  0.  0.  0.  0.  0.  0.]\n",
      " [ 0.  0.  0.  0.  0.  1.  0.]\n",
      " [ 0.  1.  0.  0.  0.  0.  0.]\n",
      " [ 0.  0.  0.  0.  0.  1.  0.]\n",
      " [ 1.  0.  0.  0.  0.  0.  0.]\n",
      " [ 0.  0.  0.  1.  0.  0.  0.]\n",
      " [ 1.  0.  0.  0.  0.  0.  0.]\n",
      " [ 0.  1.  0.  0.  0.  0.  0.]\n",
      " [ 0.  1.  0.  0.  0.  0.  0.]\n",
      " [ 0.  0.  0.  0.  1.  0.  0.]\n",
      " [ 0.  0.  0.  0.  0.  1.  0.]\n",
      " [ 0.  0.  0.  0.  1.  0.  0.]\n",
      " [ 0.  1.  0.  0.  0.  0.  0.]\n",
      " [ 0.  0.  0.  1.  0.  0.  0.]\n",
      " [ 0.  1.  0.  0.  0.  0.  0.]\n",
      " [ 0.  0.  0.  0.  0.  1.  0.]\n",
      " [ 0.  0.  1.  0.  0.  0.  0.]\n",
      " [ 0.  0.  0.  0.  0.  1.  0.]\n",
      " [ 0.  0.  0.  1.  0.  0.  0.]]\n"
     ]
    }
   ],
   "source": [
    "print(y_train)"
   ]
  },
  {
   "cell_type": "code",
   "execution_count": 806,
   "metadata": {
    "collapsed": false
   },
   "outputs": [
    {
     "name": "stdout",
     "output_type": "stream",
     "text": [
      "((54, 7), (54, 7))\n"
     ]
    }
   ],
   "source": [
    "print(x_train.shape, y_train.shape)\n",
    "### meaning 27 tranining point where each point has 7 dimensions "
   ]
  },
  {
   "cell_type": "code",
   "execution_count": 807,
   "metadata": {
    "collapsed": true
   },
   "outputs": [],
   "source": [
    "#### Tensorflow program start Here \n",
    "### creating the placeholder  x_train, and y_train \n",
    "x = tf.placeholder(tf.float32, shape =(None, vocab_size))\n",
    "y_label = tf.placeholder(tf.float32, shape =(None, vocab_size))"
   ]
  },
  {
   "cell_type": "code",
   "execution_count": 808,
   "metadata": {
    "collapsed": true
   },
   "outputs": [],
   "source": [
    "#from IPython.display import Image\n",
    "#Image(filename='/home/asabir/Desktop/Embaddig.jpeg')"
   ]
  },
  {
   "cell_type": "code",
   "execution_count": 809,
   "metadata": {
    "collapsed": false
   },
   "outputs": [
    {
     "name": "stdout",
     "output_type": "stream",
     "text": [
      "Tensor(\"Placeholder_29:0\", shape=(?, 7), dtype=float32)\n"
     ]
    }
   ],
   "source": [
    "print y_label"
   ]
  },
  {
   "cell_type": "code",
   "execution_count": 810,
   "metadata": {
    "collapsed": false
   },
   "outputs": [
    {
     "name": "stdout",
     "output_type": "stream",
     "text": [
      "Tensor(\"Placeholder_28:0\", shape=(?, 7), dtype=float32)\n"
     ]
    }
   ],
   "source": [
    "print x"
   ]
  },
  {
   "cell_type": "code",
   "execution_count": 811,
   "metadata": {
    "collapsed": false
   },
   "outputs": [],
   "source": [
    "#from IPython.display import Image\n",
    "#Image(filename='/home/asabir/Desktop/Embaddig2.jpeg')"
   ]
  },
  {
   "cell_type": "code",
   "execution_count": 812,
   "metadata": {
    "collapsed": true
   },
   "outputs": [],
   "source": [
    "# Now we convert it into embadding representation (as figure　↓し)\n",
    "## you can choose the your own number \n",
    "EMBEDDING_DIM = 5 \n",
    "### W\n",
    "W1 = tf.Variable(tf.random_normal([vocab_size, EMBEDDING_DIM]))\n",
    "### B \n",
    "b1 = tf.Variable(tf.random_normal([EMBEDDING_DIM]))\n",
    "## Hidden \n",
    "hidden_representation = tf.add(tf.matmul(x, W1), b1)"
   ]
  },
  {
   "cell_type": "code",
   "execution_count": 813,
   "metadata": {
    "collapsed": true
   },
   "outputs": [],
   "source": [
    "W2 = tf.Variable(tf.random_normal([EMBEDDING_DIM, vocab_size]))\n",
    "b2 = tf.Variable(tf.random_normal([vocab_size]))"
   ]
  },
  {
   "cell_type": "code",
   "execution_count": 814,
   "metadata": {
    "collapsed": true
   },
   "outputs": [],
   "source": [
    "prediction = tf.nn.softmax(tf.add( tf.matmul(hidden_representation, W2), b2))"
   ]
  },
  {
   "cell_type": "code",
   "execution_count": 815,
   "metadata": {
    "collapsed": false
   },
   "outputs": [],
   "source": [
    "#from IPython.display import Image\n",
    "#Image(filename='/home/asabir/Desktop/Embaddig3.jpeg')"
   ]
  },
  {
   "cell_type": "code",
   "execution_count": 816,
   "metadata": {
    "collapsed": true
   },
   "outputs": [],
   "source": [
    "## Input_one_hot ---> embedded repr. ----> predicted_neighbour_prob "
   ]
  },
  {
   "cell_type": "code",
   "execution_count": 817,
   "metadata": {
    "collapsed": true
   },
   "outputs": [],
   "source": [
    "# Now, let start the tranining  \n",
    "sess = tf.Session() \n",
    "init = tf.global_variables_initializer()\n",
    "sess.run(init) "
   ]
  },
  {
   "cell_type": "code",
   "execution_count": 818,
   "metadata": {
    "collapsed": true,
    "scrolled": true
   },
   "outputs": [],
   "source": [
    "#define the loss function \n",
    "cross_entropy_loss = tf.reduce_mean(-tf.reduce_sum(y_label * tf.log(prediction), reduction_indices=[1]))"
   ]
  },
  {
   "cell_type": "code",
   "execution_count": 819,
   "metadata": {
    "collapsed": true
   },
   "outputs": [],
   "source": [
    "#define the tranining stetp \n",
    "train_step = tf.train.GradientDescentOptimizer(0.1).minimize(cross_entropy_loss)"
   ]
  },
  {
   "cell_type": "code",
   "execution_count": 820,
   "metadata": {
    "collapsed": true
   },
   "outputs": [],
   "source": [
    "n_iters = 20"
   ]
  },
  {
   "cell_type": "code",
   "execution_count": 821,
   "metadata": {
    "collapsed": false
   },
   "outputs": [
    {
     "name": "stdout",
     "output_type": "stream",
     "text": [
      "('loss is : ', 3.7491734)\n",
      "('loss is : ', 3.5242376)\n",
      "('loss is : ', 3.3510962)\n",
      "('loss is : ', 3.2079258)\n",
      "('loss is : ', 3.0847187)\n",
      "('loss is : ', 2.9762363)\n",
      "('loss is : ', 2.8792386)\n",
      "('loss is : ', 2.7914884)\n",
      "('loss is : ', 2.7113633)\n",
      "('loss is : ', 2.6376729)\n",
      "('loss is : ', 2.5695522)\n",
      "('loss is : ', 2.5063887)\n",
      "('loss is : ', 2.4477642)\n",
      "('loss is : ', 2.3934081)\n",
      "('loss is : ', 2.3431528)\n",
      "('loss is : ', 2.2968962)\n",
      "('loss is : ', 2.2545612)\n",
      "('loss is : ', 2.2160583)\n",
      "('loss is : ', 2.1812558)\n",
      "('loss is : ', 2.1499569)\n"
     ]
    }
   ],
   "source": [
    "### train for n_iter iterations \n",
    "for _ in range(n_iters):\n",
    "    sess.run(train_step, feed_dict={x: x_train, y_label: y_train})\n",
    "    print('loss is : ', sess.run(cross_entropy_loss, feed_dict={x: x_train, y_label: y_train}))"
   ]
  },
  {
   "cell_type": "code",
   "execution_count": 822,
   "metadata": {
    "collapsed": true
   },
   "outputs": [],
   "source": [
    "Vectors = sess.run(W1+b1)"
   ]
  },
  {
   "cell_type": "code",
   "execution_count": 823,
   "metadata": {
    "collapsed": false
   },
   "outputs": [
    {
     "name": "stdout",
     "output_type": "stream",
     "text": [
      "[[ 0.63531131 -0.29805526  0.16432349  0.71807015 -0.25180089]\n",
      " [ 2.25697994 -0.58208686  1.39743459 -0.18036509 -0.03716298]\n",
      " [ 0.85124224  1.08339036 -0.99309367  0.55763459  1.092062  ]\n",
      " [-2.56640577  0.55660689 -1.1398946  -2.48028779 -0.7292859 ]\n",
      " [ 1.94922936  1.48876047 -2.22827291 -0.27098572  0.98659408]\n",
      " [-0.94583172 -1.78401351 -0.67550153 -1.35020363 -0.00434981]\n",
      " [-0.58859318 -1.23841906 -1.00922036  0.2624585   0.20980985]]\n",
      "----------\n"
     ]
    }
   ],
   "source": [
    "print (sess.run(W1))\n",
    "print('----------')"
   ]
  },
  {
   "cell_type": "code",
   "execution_count": 824,
   "metadata": {
    "collapsed": false
   },
   "outputs": [
    {
     "name": "stdout",
     "output_type": "stream",
     "text": [
      "[ 1.67084026 -0.41547573  1.34568477  0.66651189 -0.88418996]\n",
      "----------\n"
     ]
    }
   ],
   "source": [
    "print(sess.run(b1))\n",
    "print('----------')"
   ]
  },
  {
   "cell_type": "code",
   "execution_count": 825,
   "metadata": {
    "collapsed": false
   },
   "outputs": [
    {
     "name": "stdout",
     "output_type": "stream",
     "text": [
      "<tf.Variable 'Variable_61:0' shape=(5,) dtype=float32_ref>\n"
     ]
    }
   ],
   "source": [
    "print(b1)"
   ]
  },
  {
   "cell_type": "code",
   "execution_count": 826,
   "metadata": {
    "collapsed": false
   },
   "outputs": [],
   "source": [
    "### one-hot-vectors \n",
    "##from IPython.display import Image\n",
    "##Image(filename='/home/asabir/Desktop/hot_v.png')"
   ]
  },
  {
   "cell_type": "code",
   "execution_count": 827,
   "metadata": {
    "collapsed": false
   },
   "outputs": [
    {
     "name": "stdout",
     "output_type": "stream",
     "text": [
      "[[ 2.30615163 -0.71353102  1.51000822  1.38458204 -1.13599086]\n",
      " [ 3.92782021 -0.99756259  2.74311924  0.48614681 -0.92135292]\n",
      " [ 2.52208257  0.66791463  0.3525911   1.22414649  0.20787203]\n",
      " [-0.89556551  0.14113116  0.20579016 -1.8137759  -1.6134758 ]\n",
      " [ 3.6200695   1.07328475 -0.88258815  0.39552617  0.10240412]\n",
      " [ 0.72500855 -2.19948912  0.67018324 -0.68369174 -0.88853979]\n",
      " [ 1.08224702 -1.65389478  0.33646441  0.9289704  -0.67438012]]\n"
     ]
    }
   ],
   "source": [
    "#Multiply the one hot vector with W1, we basically get access to the raw of W1 which is in the fact ..\n",
    "# the embedded representation of the word represented by the input ONE-HOT-VECTOR. So W1 is essentially acting\n",
    "# as a look up-table \n",
    "vectors = sess.run(W1+b1)\n",
    "# if you work it out, you will see that it has the same effect as running the node hidden representation\n",
    "print vectors"
   ]
  },
  {
   "cell_type": "code",
   "execution_count": 828,
   "metadata": {
    "collapsed": false
   },
   "outputs": [
    {
     "name": "stdout",
     "output_type": "stream",
     "text": [
      "[ 2.52208257  0.66791463  0.3525911   1.22414649  0.20787203]\n"
     ]
    }
   ],
   "source": [
    "# So, if we want the representation for 'queen; for example \n",
    "# say here word2int['queen'] is 2 \n",
    "print(vectors[ word2int['queen']])"
   ]
  },
  {
   "cell_type": "code",
   "execution_count": 829,
   "metadata": {
    "collapsed": true
   },
   "outputs": [],
   "source": [
    "### Now we have our Vectors \n",
    "## To find the closest vector to a given vector \n",
    "def euclidean_dist(vec1, vec2):\n",
    "    return np.sqrt(np.sum((vec1-vec2)**2)) "
   ]
  },
  {
   "cell_type": "code",
   "execution_count": 830,
   "metadata": {
    "collapsed": true
   },
   "outputs": [],
   "source": [
    "def find_closest(word_index, vectors):\n",
    "    # act loke positive infinity \n",
    "    min_dist = 1000 \n",
    "    min_index = -1 \n",
    "    \n",
    "    query_vector = vectors[word_index]\n",
    "    \n",
    "    for index, vector in enumerate (vectors):\n",
    "        if euclidean_dist(vector, query_vector)< min_dist and not np.array_equal(vector, query_vector):\n",
    "            \n",
    "            min_dist = euclidean_dist(vector, query_vector)\n",
    "            min_index = index\n",
    "            \n",
    "    return min_index"
   ]
  },
  {
   "cell_type": "code",
   "execution_count": 831,
   "metadata": {
    "collapsed": false
   },
   "outputs": [
    {
     "name": "stdout",
     "output_type": "stream",
     "text": [
      "he\n",
      "she\n",
      "the\n"
     ]
    }
   ],
   "source": [
    "### NOW lets check out query of two vectors 'king' and 'royal\"\n",
    "print (int2word[find_closest(word2int['king'], vectors)])\n",
    "print (int2word[find_closest(word2int['queen'], vectors)])\n",
    "print(int2word[find_closest(word2int['royal'], vectors)])"
   ]
  },
  {
   "cell_type": "code",
   "execution_count": 832,
   "metadata": {
    "collapsed": true
   },
   "outputs": [],
   "source": [
    "# our embadding learnt that \n",
    "# King is closest to he \n",
    "# queen is closest to royal \n",
    "# royal is closest to she \n",
    "#### BIGGER Corpus will lead to better results### \n",
    "### As well note that the random initialization of the weight "
   ]
  },
  {
   "cell_type": "code",
   "execution_count": 833,
   "metadata": {
    "collapsed": false
   },
   "outputs": [],
   "source": [
    "### lets reduce the the demension from 5 to 2 with our dimensionality reduction technique: tSNE\n",
    "import sklearn \n",
    "from sklearn.manifold import TSNE\n",
    "\n",
    "model = TSNE(n_components =2, random_state= 0)\n",
    "np.set_printoptions(suppress=True)\n",
    "vector =model.fit_transform(vectors)"
   ]
  },
  {
   "cell_type": "code",
   "execution_count": 834,
   "metadata": {
    "collapsed": false
   },
   "outputs": [],
   "source": [
    "##  we need to normalize the result, so that we can view them plot them\n",
    "from sklearn import preprocessing\n",
    "normalizer = preprocessing.Normalizer()\n",
    "vectors =  normalizer.fit_transform(vectors, 'l2')"
   ]
  },
  {
   "cell_type": "code",
   "execution_count": 835,
   "metadata": {
    "collapsed": false,
    "scrolled": true
   },
   "outputs": [
    {
     "name": "stdout",
     "output_type": "stream",
     "text": [
      "('king', -0.21212071)\n",
      "('is', -0.19938162)\n",
      "('queen', 0.22945653)\n",
      "('royal', 0.054291688)\n",
      "('she', 0.275267)\n",
      "('the', -0.82723385)\n",
      "('he', -0.71587056)\n"
     ]
    },
    {
     "data": {
      "image/png": "[encoded data removed]",
      "text/plain": [
       "<matplotlib.figure.Figure at 0x12219ac50>"
      ]
     },
     "metadata": {},
     "output_type": "display_data"
    }
   ],
   "source": [
    "import matplotlib.pyplot as plt\n",
    "fig, ax = plt.subplots()\n",
    "for word in words:\n",
    "    print(word, vectors[word2int[word]][1])\n",
    "    ax.annotate(word, (vectors[word2int[word]][0],vectors[word2int[word]][1] ))\n",
    "plt.show()"
   ]
  }
 ],
 "metadata": {
  "kernelspec": {
   "display_name": "Python 2",
   "language": "python",
   "name": "python2"
  },
  "language_info": {
   "codemirror_mode": {
    "name": "ipython",
    "version": 2
   },
   "file_extension": ".py",
   "mimetype": "text/x-python",
   "name": "python",
   "nbconvert_exporter": "python",
   "pygments_lexer": "ipython2",
   "version": "2.7.13"
  }
 },
 "nbformat": 4,
 "nbformat_minor": 2
}
